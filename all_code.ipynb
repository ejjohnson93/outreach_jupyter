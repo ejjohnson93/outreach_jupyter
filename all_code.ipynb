{
 "cells": [
  {
   "attachments": {},
   "cell_type": "markdown",
   "metadata": {},
   "source": [
    "# Introduction\n",
    "\n",
    "One of the most popular uses for python is for data analysis and visualisation. You might have created a graph in MicroSoft Excel before. During this process we have to click around the software to modify our graph's appearance/what data it takes as an input. This might not take too much time if you're only doing it once but what if you had to make similar graphs another ten times? A hundred times? Or a thousand times? The process would quickly get very boring, take a lot of time, and you'd be more likely to make mistakes.\n",
    "\n",
    "We can use a python package called `matplotlib` to help us plot data using python. In this case, our program is a series of instructions telling matplotlib what data to use and how to format it. Its very customisable and you can use the same code over and over again.\n",
    "\n",
    "This activity is a little more difficult than the ones before it. Don't worry if you don't understand how all the code works. Here you will mostly copy and paste it and just edit snippets. The aim is to show you how python is used for plotting since this is important in lots of jobs like data science and research!\n",
    "\n",
    "<br> <br>"
   ]
  },
  {
   "attachments": {},
   "cell_type": "markdown",
   "metadata": {},
   "source": [
    "# Python plotting\n",
    "\n",
    "## Women in STEM\n",
    "\n",
    "In the following activity we are going to create our own customised version of this graph:\n",
    "\n",
    "<br>\n",
    "<center>\n",
    "\n",
    "<img src=\"https://github.com/ejjohnson93/outreach_jupyter/blob/main/images/12.png?raw=true\" alt=\"Alternative text\" width=\"400\"/>\n",
    "\n",
    "</center>\n",
    "<br>\n",
    "\n",
    "We will use our own colours, line widths and line styles. In our previous activities we used replit to run all our code contained in a python script. This was ideal as we wanted to run all our code in one go. However, in this activity we want to be able to customise our graphs in an interactive way. Because of this we are going to use a type of python notebook called a 'Jupyter notebook'. A Jupyter notebook allows you to create small blocks of code and run the blocks one at a time. You can make changes to just one block and see what happens.\n",
    "\n",
    "<br>\n",
    "\n",
    "<br>\n",
    "\n",
    "### Load our packages\n",
    "\n",
    "In the previous activity we loaded a python package called `sleep` that contained functions to let python carry out additional tasks. Python does not know how to process and plot data on its own. So in this activity we're going to need to load two extra packages known as 'pandas' and 'matplotlib'. 'Pandas' is a package that lets python read and edit data, much like you'd use Excel to process raw data. 'Matplotlib' is the package that then lets us plot the data. We'd load them by pasting the following code into our first chunk and pressing the play button:\n"
   ]
  },
  {
   "cell_type": "code",
   "execution_count": 1,
   "metadata": {},
   "outputs": [],
   "source": [
    "import matplotlib.pyplot as plt\n",
    "import pandas as pd"
   ]
  },
  {
   "attachments": {},
   "cell_type": "markdown",
   "metadata": {},
   "source": [
    "<br>\n",
    "\n",
    "You might notice the code is slightly different from activity 2.\n",
    "\n",
    "Instead of `import <packagename>` we have `import <packagename> as <newname>` .\n",
    "\n",
    "In activity 2, we mentioned that to use the functions contained inside a package we need the package name, then a full stop, then the function, like so:\n",
    "\n",
    "`time.sleep`\n",
    "\n",
    "<br>\n",
    "\n",
    "However, 'Matplotlib.pyplot' is quite a lot of letters to type every time! Each time we used it we'd have to type:\n",
    "\n",
    "`matplotlib.pyplot.plot`\n",
    "\n",
    "<br>\n",
    "\n",
    "Instead, we can rename the package as we import it to something simple and easy to remember. In this case 'plt'. So the above line of code would become:\n",
    "\n",
    "`plt.plot`\n",
    "\n",
    "<br>\n",
    "\n",
    "In summary, this is how we load and rename a package:\n",
    "\n",
    "<br>\n",
    "<center>\n",
    "\n",
    "<img src=\"https://github.com/ejjohnson93/outreach_jupyter/blob/main/images/import2.png?raw=true\" alt=\"Alternative text\" width=\"400\"/>\n",
    "\n",
    "</center>\n",
    "<br><br>"
   ]
  },
  {
   "attachments": {},
   "cell_type": "markdown",
   "metadata": {},
   "source": [
    "### Load the data\n",
    "\n",
    "The data we're going to be using can be found [here](https://raw.githubusercontent.com/ejjohnson93/ejjohnson93.github.io/main/data/women_stem_data.csv). We are going to load it using the package mentioned earlier 'pandas'. Remember, we have loaded 'pandas' and renamed it to 'pd'.\n",
    "\n",
    "<br>\n",
    "\n",
    "The code to load the data is:"
   ]
  },
  {
   "cell_type": "code",
   "execution_count": 2,
   "metadata": {},
   "outputs": [],
   "source": [
    "data = pd.read_csv(\"https://raw.githubusercontent.com/ejjohnson93/ejjohnson93.github.io/main/data/women_stem_data.csv\")"
   ]
  },
  {
   "attachments": {},
   "cell_type": "markdown",
   "metadata": {},
   "source": [
    "In this case we use the `read_csv` function contained inside the 'pandas' package to load the data at the url. We then store it in a variable called 'data' using the equals sign.\n",
    "\n",
    "We can view the data by typing the name of the variable in a code chunk:"
   ]
  },
  {
   "cell_type": "code",
   "execution_count": 3,
   "metadata": {},
   "outputs": [
    {
     "data": {
      "text/html": [
       "<div>\n",
       "<style scoped>\n",
       "    .dataframe tbody tr th:only-of-type {\n",
       "        vertical-align: middle;\n",
       "    }\n",
       "\n",
       "    .dataframe tbody tr th {\n",
       "        vertical-align: top;\n",
       "    }\n",
       "\n",
       "    .dataframe thead th {\n",
       "        text-align: right;\n",
       "    }\n",
       "</style>\n",
       "<table border=\"1\" class=\"dataframe\">\n",
       "  <thead>\n",
       "    <tr style=\"text-align: right;\">\n",
       "      <th></th>\n",
       "      <th>Date</th>\n",
       "      <th>Law</th>\n",
       "      <th>Comp Sci</th>\n",
       "      <th>Medical school</th>\n",
       "      <th>Physical sciences</th>\n",
       "    </tr>\n",
       "  </thead>\n",
       "  <tbody>\n",
       "    <tr>\n",
       "      <th>0</th>\n",
       "      <td>1966</td>\n",
       "      <td>3.952991</td>\n",
       "      <td>14.316239</td>\n",
       "      <td>9.081197</td>\n",
       "      <td>14.198717</td>\n",
       "    </tr>\n",
       "    <tr>\n",
       "      <th>1</th>\n",
       "      <td>1967</td>\n",
       "      <td>4.273504</td>\n",
       "      <td>11.645299</td>\n",
       "      <td>9.925213</td>\n",
       "      <td>14.091880</td>\n",
       "    </tr>\n",
       "    <tr>\n",
       "      <th>2</th>\n",
       "      <td>1968</td>\n",
       "      <td>5.341880</td>\n",
       "      <td>12.179487</td>\n",
       "      <td>9.925213</td>\n",
       "      <td>13.985042</td>\n",
       "    </tr>\n",
       "    <tr>\n",
       "      <th>3</th>\n",
       "      <td>1969</td>\n",
       "      <td>6.837607</td>\n",
       "      <td>12.820513</td>\n",
       "      <td>9.284187</td>\n",
       "      <td>14.091880</td>\n",
       "    </tr>\n",
       "    <tr>\n",
       "      <th>4</th>\n",
       "      <td>1970</td>\n",
       "      <td>7.799145</td>\n",
       "      <td>13.034188</td>\n",
       "      <td>9.497863</td>\n",
       "      <td>14.305555</td>\n",
       "    </tr>\n",
       "    <tr>\n",
       "      <th>5</th>\n",
       "      <td>1971</td>\n",
       "      <td>10.042735</td>\n",
       "      <td>13.675214</td>\n",
       "      <td>11.314102</td>\n",
       "      <td>15.160256</td>\n",
       "    </tr>\n",
       "    <tr>\n",
       "      <th>6</th>\n",
       "      <td>1972</td>\n",
       "      <td>12.500000</td>\n",
       "      <td>13.995726</td>\n",
       "      <td>14.198717</td>\n",
       "      <td>15.908119</td>\n",
       "    </tr>\n",
       "    <tr>\n",
       "      <th>7</th>\n",
       "      <td>1973</td>\n",
       "      <td>16.239316</td>\n",
       "      <td>14.957265</td>\n",
       "      <td>17.297008</td>\n",
       "      <td>16.335469</td>\n",
       "    </tr>\n",
       "    <tr>\n",
       "      <th>8</th>\n",
       "      <td>1974</td>\n",
       "      <td>20.085470</td>\n",
       "      <td>16.666667</td>\n",
       "      <td>19.861110</td>\n",
       "      <td>17.297008</td>\n",
       "    </tr>\n",
       "    <tr>\n",
       "      <th>9</th>\n",
       "      <td>1975</td>\n",
       "      <td>23.931624</td>\n",
       "      <td>18.803419</td>\n",
       "      <td>22.104700</td>\n",
       "      <td>19.006410</td>\n",
       "    </tr>\n",
       "    <tr>\n",
       "      <th>10</th>\n",
       "      <td>1976</td>\n",
       "      <td>26.816239</td>\n",
       "      <td>20.512821</td>\n",
       "      <td>23.920940</td>\n",
       "      <td>19.754273</td>\n",
       "    </tr>\n",
       "    <tr>\n",
       "      <th>11</th>\n",
       "      <td>1977</td>\n",
       "      <td>28.205128</td>\n",
       "      <td>23.717949</td>\n",
       "      <td>24.882478</td>\n",
       "      <td>20.502136</td>\n",
       "    </tr>\n",
       "    <tr>\n",
       "      <th>12</th>\n",
       "      <td>1978</td>\n",
       "      <td>30.341880</td>\n",
       "      <td>25.961538</td>\n",
       "      <td>25.096153</td>\n",
       "      <td>21.997863</td>\n",
       "    </tr>\n",
       "    <tr>\n",
       "      <th>13</th>\n",
       "      <td>1979</td>\n",
       "      <td>32.585470</td>\n",
       "      <td>28.205128</td>\n",
       "      <td>25.630341</td>\n",
       "      <td>23.066239</td>\n",
       "    </tr>\n",
       "    <tr>\n",
       "      <th>14</th>\n",
       "      <td>1980</td>\n",
       "      <td>33.653846</td>\n",
       "      <td>30.448718</td>\n",
       "      <td>27.767093</td>\n",
       "      <td>24.027777</td>\n",
       "    </tr>\n",
       "    <tr>\n",
       "      <th>15</th>\n",
       "      <td>1981</td>\n",
       "      <td>35.897436</td>\n",
       "      <td>32.585470</td>\n",
       "      <td>29.262820</td>\n",
       "      <td>25.096153</td>\n",
       "    </tr>\n",
       "    <tr>\n",
       "      <th>16</th>\n",
       "      <td>1982</td>\n",
       "      <td>37.179487</td>\n",
       "      <td>34.722222</td>\n",
       "      <td>30.758546</td>\n",
       "      <td>26.271367</td>\n",
       "    </tr>\n",
       "    <tr>\n",
       "      <th>17</th>\n",
       "      <td>1983</td>\n",
       "      <td>38.141026</td>\n",
       "      <td>36.324786</td>\n",
       "      <td>31.399572</td>\n",
       "      <td>27.873931</td>\n",
       "    </tr>\n",
       "    <tr>\n",
       "      <th>18</th>\n",
       "      <td>1984</td>\n",
       "      <td>39.102564</td>\n",
       "      <td>37.072650</td>\n",
       "      <td>32.681623</td>\n",
       "      <td>29.155982</td>\n",
       "    </tr>\n",
       "    <tr>\n",
       "      <th>19</th>\n",
       "      <td>1985</td>\n",
       "      <td>39.957265</td>\n",
       "      <td>36.752137</td>\n",
       "      <td>33.322649</td>\n",
       "      <td>29.903845</td>\n",
       "    </tr>\n",
       "    <tr>\n",
       "      <th>20</th>\n",
       "      <td>1986</td>\n",
       "      <td>39.423077</td>\n",
       "      <td>35.897436</td>\n",
       "      <td>34.070512</td>\n",
       "      <td>30.117521</td>\n",
       "    </tr>\n",
       "    <tr>\n",
       "      <th>21</th>\n",
       "      <td>1987</td>\n",
       "      <td>37.927350</td>\n",
       "      <td>34.615385</td>\n",
       "      <td>35.032051</td>\n",
       "      <td>30.438034</td>\n",
       "    </tr>\n",
       "    <tr>\n",
       "      <th>22</th>\n",
       "      <td>1988</td>\n",
       "      <td>42.094017</td>\n",
       "      <td>32.692308</td>\n",
       "      <td>36.100427</td>\n",
       "      <td>31.613247</td>\n",
       "    </tr>\n",
       "    <tr>\n",
       "      <th>23</th>\n",
       "      <td>1989</td>\n",
       "      <td>43.055556</td>\n",
       "      <td>30.982906</td>\n",
       "      <td>37.168803</td>\n",
       "      <td>31.506410</td>\n",
       "    </tr>\n",
       "    <tr>\n",
       "      <th>24</th>\n",
       "      <td>1990</td>\n",
       "      <td>42.841880</td>\n",
       "      <td>30.235043</td>\n",
       "      <td>37.916666</td>\n",
       "      <td>31.933760</td>\n",
       "    </tr>\n",
       "    <tr>\n",
       "      <th>25</th>\n",
       "      <td>1991</td>\n",
       "      <td>42.628205</td>\n",
       "      <td>29.594017</td>\n",
       "      <td>38.450854</td>\n",
       "      <td>32.147435</td>\n",
       "    </tr>\n",
       "    <tr>\n",
       "      <th>26</th>\n",
       "      <td>1992</td>\n",
       "      <td>42.948718</td>\n",
       "      <td>28.952991</td>\n",
       "      <td>39.946581</td>\n",
       "      <td>33.108974</td>\n",
       "    </tr>\n",
       "    <tr>\n",
       "      <th>27</th>\n",
       "      <td>1993</td>\n",
       "      <td>43.162393</td>\n",
       "      <td>28.418803</td>\n",
       "      <td>41.762820</td>\n",
       "      <td>33.963675</td>\n",
       "    </tr>\n",
       "    <tr>\n",
       "      <th>28</th>\n",
       "      <td>1994</td>\n",
       "      <td>43.910256</td>\n",
       "      <td>28.525641</td>\n",
       "      <td>41.976495</td>\n",
       "      <td>35.138888</td>\n",
       "    </tr>\n",
       "    <tr>\n",
       "      <th>29</th>\n",
       "      <td>1995</td>\n",
       "      <td>44.337607</td>\n",
       "      <td>28.525641</td>\n",
       "      <td>42.297008</td>\n",
       "      <td>36.100427</td>\n",
       "    </tr>\n",
       "    <tr>\n",
       "      <th>30</th>\n",
       "      <td>1996</td>\n",
       "      <td>44.978632</td>\n",
       "      <td>27.777778</td>\n",
       "      <td>42.831196</td>\n",
       "      <td>37.275640</td>\n",
       "    </tr>\n",
       "    <tr>\n",
       "      <th>31</th>\n",
       "      <td>1997</td>\n",
       "      <td>45.192308</td>\n",
       "      <td>27.243590</td>\n",
       "      <td>43.044871</td>\n",
       "      <td>38.771367</td>\n",
       "    </tr>\n",
       "    <tr>\n",
       "      <th>32</th>\n",
       "      <td>1998</td>\n",
       "      <td>46.047009</td>\n",
       "      <td>27.350427</td>\n",
       "      <td>43.365384</td>\n",
       "      <td>39.198717</td>\n",
       "    </tr>\n",
       "    <tr>\n",
       "      <th>33</th>\n",
       "      <td>1999</td>\n",
       "      <td>47.329060</td>\n",
       "      <td>27.884615</td>\n",
       "      <td>44.220085</td>\n",
       "      <td>40.053418</td>\n",
       "    </tr>\n",
       "    <tr>\n",
       "      <th>34</th>\n",
       "      <td>2000</td>\n",
       "      <td>48.717949</td>\n",
       "      <td>27.991453</td>\n",
       "      <td>45.608974</td>\n",
       "      <td>41.121794</td>\n",
       "    </tr>\n",
       "    <tr>\n",
       "      <th>35</th>\n",
       "      <td>2001</td>\n",
       "      <td>49.038462</td>\n",
       "      <td>27.777778</td>\n",
       "      <td>46.463675</td>\n",
       "      <td>42.083333</td>\n",
       "    </tr>\n",
       "    <tr>\n",
       "      <th>36</th>\n",
       "      <td>2002</td>\n",
       "      <td>48.183761</td>\n",
       "      <td>27.457265</td>\n",
       "      <td>47.211538</td>\n",
       "      <td>42.617521</td>\n",
       "    </tr>\n",
       "    <tr>\n",
       "      <th>37</th>\n",
       "      <td>2003</td>\n",
       "      <td>45.192308</td>\n",
       "      <td>26.816239</td>\n",
       "      <td>46.036324</td>\n",
       "      <td>42.190170</td>\n",
       "    </tr>\n",
       "    <tr>\n",
       "      <th>38</th>\n",
       "      <td>2004</td>\n",
       "      <td>45.512821</td>\n",
       "      <td>25.000000</td>\n",
       "      <td>47.211538</td>\n",
       "      <td>42.190170</td>\n",
       "    </tr>\n",
       "    <tr>\n",
       "      <th>39</th>\n",
       "      <td>2005</td>\n",
       "      <td>48.076923</td>\n",
       "      <td>22.649573</td>\n",
       "      <td>48.600427</td>\n",
       "      <td>42.724358</td>\n",
       "    </tr>\n",
       "    <tr>\n",
       "      <th>40</th>\n",
       "      <td>2006</td>\n",
       "      <td>47.329060</td>\n",
       "      <td>20.619658</td>\n",
       "      <td>48.493589</td>\n",
       "      <td>42.083333</td>\n",
       "    </tr>\n",
       "    <tr>\n",
       "      <th>41</th>\n",
       "      <td>2007</td>\n",
       "      <td>46.474359</td>\n",
       "      <td>18.803419</td>\n",
       "      <td>48.814102</td>\n",
       "      <td>41.121794</td>\n",
       "    </tr>\n",
       "    <tr>\n",
       "      <th>42</th>\n",
       "      <td>2008</td>\n",
       "      <td>46.794872</td>\n",
       "      <td>17.948718</td>\n",
       "      <td>48.173076</td>\n",
       "      <td>41.228632</td>\n",
       "    </tr>\n",
       "    <tr>\n",
       "      <th>43</th>\n",
       "      <td>2009</td>\n",
       "      <td>47.115385</td>\n",
       "      <td>17.948718</td>\n",
       "      <td>48.173076</td>\n",
       "      <td>41.549145</td>\n",
       "    </tr>\n",
       "    <tr>\n",
       "      <th>44</th>\n",
       "      <td>2010</td>\n",
       "      <td>47.115385</td>\n",
       "      <td>18.055556</td>\n",
       "      <td>47.745726</td>\n",
       "      <td>41.228632</td>\n",
       "    </tr>\n",
       "  </tbody>\n",
       "</table>\n",
       "</div>"
      ],
      "text/plain": [
       "    Date        Law   Comp Sci  Medical school  Physical sciences\n",
       "0   1966   3.952991  14.316239        9.081197          14.198717\n",
       "1   1967   4.273504  11.645299        9.925213          14.091880\n",
       "2   1968   5.341880  12.179487        9.925213          13.985042\n",
       "3   1969   6.837607  12.820513        9.284187          14.091880\n",
       "4   1970   7.799145  13.034188        9.497863          14.305555\n",
       "5   1971  10.042735  13.675214       11.314102          15.160256\n",
       "6   1972  12.500000  13.995726       14.198717          15.908119\n",
       "7   1973  16.239316  14.957265       17.297008          16.335469\n",
       "8   1974  20.085470  16.666667       19.861110          17.297008\n",
       "9   1975  23.931624  18.803419       22.104700          19.006410\n",
       "10  1976  26.816239  20.512821       23.920940          19.754273\n",
       "11  1977  28.205128  23.717949       24.882478          20.502136\n",
       "12  1978  30.341880  25.961538       25.096153          21.997863\n",
       "13  1979  32.585470  28.205128       25.630341          23.066239\n",
       "14  1980  33.653846  30.448718       27.767093          24.027777\n",
       "15  1981  35.897436  32.585470       29.262820          25.096153\n",
       "16  1982  37.179487  34.722222       30.758546          26.271367\n",
       "17  1983  38.141026  36.324786       31.399572          27.873931\n",
       "18  1984  39.102564  37.072650       32.681623          29.155982\n",
       "19  1985  39.957265  36.752137       33.322649          29.903845\n",
       "20  1986  39.423077  35.897436       34.070512          30.117521\n",
       "21  1987  37.927350  34.615385       35.032051          30.438034\n",
       "22  1988  42.094017  32.692308       36.100427          31.613247\n",
       "23  1989  43.055556  30.982906       37.168803          31.506410\n",
       "24  1990  42.841880  30.235043       37.916666          31.933760\n",
       "25  1991  42.628205  29.594017       38.450854          32.147435\n",
       "26  1992  42.948718  28.952991       39.946581          33.108974\n",
       "27  1993  43.162393  28.418803       41.762820          33.963675\n",
       "28  1994  43.910256  28.525641       41.976495          35.138888\n",
       "29  1995  44.337607  28.525641       42.297008          36.100427\n",
       "30  1996  44.978632  27.777778       42.831196          37.275640\n",
       "31  1997  45.192308  27.243590       43.044871          38.771367\n",
       "32  1998  46.047009  27.350427       43.365384          39.198717\n",
       "33  1999  47.329060  27.884615       44.220085          40.053418\n",
       "34  2000  48.717949  27.991453       45.608974          41.121794\n",
       "35  2001  49.038462  27.777778       46.463675          42.083333\n",
       "36  2002  48.183761  27.457265       47.211538          42.617521\n",
       "37  2003  45.192308  26.816239       46.036324          42.190170\n",
       "38  2004  45.512821  25.000000       47.211538          42.190170\n",
       "39  2005  48.076923  22.649573       48.600427          42.724358\n",
       "40  2006  47.329060  20.619658       48.493589          42.083333\n",
       "41  2007  46.474359  18.803419       48.814102          41.121794\n",
       "42  2008  46.794872  17.948718       48.173076          41.228632\n",
       "43  2009  47.115385  17.948718       48.173076          41.549145\n",
       "44  2010  47.115385  18.055556       47.745726          41.228632"
      ]
     },
     "execution_count": 3,
     "metadata": {},
     "output_type": "execute_result"
    }
   ],
   "source": [
    "data"
   ]
  },
  {
   "attachments": {},
   "cell_type": "markdown",
   "metadata": {},
   "source": [
    "### Plot it!"
   ]
  },
  {
   "attachments": {},
   "cell_type": "markdown",
   "metadata": {},
   "source": [
    "Now that our data is loaded we can start plotting it. We are going to create a line graph. A line graph has an x-axis and a y-axis. In this case our x-axis is time in years. Our y-axis is the percentage of majors that are women.\n",
    "\n",
    "Lets begin by just plotting the data for computer science."
   ]
  },
  {
   "cell_type": "code",
   "execution_count": 4,
   "metadata": {},
   "outputs": [],
   "source": [
    "x = data[\"Date\"]"
   ]
  },
  {
   "cell_type": "code",
   "execution_count": 5,
   "metadata": {},
   "outputs": [],
   "source": [
    "y = data[\"Comp Sci\"]"
   ]
  },
  {
   "cell_type": "code",
   "execution_count": 6,
   "metadata": {},
   "outputs": [
    {
     "data": {
      "image/png": "[encoded data removed]",
      "text/plain": [
       "<Figure size 432x288 with 1 Axes>"
      ]
     },
     "metadata": {
      "needs_background": "light"
     },
     "output_type": "display_data"
    }
   ],
   "source": [
    "plt.plot(x, y)\n",
    "plt.show()"
   ]
  },
  {
   "attachments": {},
   "cell_type": "markdown",
   "metadata": {},
   "source": [
    "Our plot is currently missing labels for the a-xis and y-axis... but Matplotlib lets us layer up the different features of our plot. Let's now add x and y axis labels:\n"
   ]
  },
  {
   "cell_type": "code",
   "execution_count": 7,
   "metadata": {},
   "outputs": [
    {
     "data": {
      "image/png": "[encoded data removed]",
      "text/plain": [
       "<Figure size 432x288 with 1 Axes>"
      ]
     },
     "metadata": {
      "needs_background": "light"
     },
     "output_type": "display_data"
    }
   ],
   "source": [
    "plt.plot(x, y)\n",
    "plt.xlabel('Year')\n",
    "plt.ylabel('% women majors')\n",
    "plt.show()"
   ]
  },
  {
   "attachments": {},
   "cell_type": "markdown",
   "metadata": {},
   "source": [
    "<br>\n",
    "\n",
    "That's a bit better... but we should also include a key for data so a reader understands what the line refers to."
   ]
  },
  {
   "cell_type": "code",
   "execution_count": 8,
   "metadata": {},
   "outputs": [
    {
     "data": {
      "image/png": "[encoded data removed]",
      "text/plain": [
       "<Figure size 432x288 with 1 Axes>"
      ]
     },
     "metadata": {
      "needs_background": "light"
     },
     "output_type": "display_data"
    }
   ],
   "source": [
    "plt.plot(x, y, label = \"Computer Science\")\n",
    "plt.xlabel('Year')\n",
    "plt.ylabel('% women majors')\n",
    "plt.legend()\n",
    "plt.show()"
   ]
  },
  {
   "attachments": {},
   "cell_type": "markdown",
   "metadata": {},
   "source": [
    "<br>\n",
    "\n",
    "Now lets include the data for the other subjects. We can store each subject in a new y data variable. We'll call them y, y2, y3 and y4. y contains the data for computer science, y2 contains the data for law, y3 contains the data for medical school and y4 contains the data for the physical sciences."
   ]
  },
  {
   "cell_type": "code",
   "execution_count": 9,
   "metadata": {},
   "outputs": [],
   "source": [
    "y = data[\"Comp Sci\"]\n",
    "y2 = data[\"Law\"]\n",
    "y3 = data[\"Medical school\"]\n",
    "y4 = data[\"Physical sciences\"]"
   ]
  },
  {
   "attachments": {},
   "cell_type": "markdown",
   "metadata": {},
   "source": [
    "<br>\n",
    "\n",
    "Now we can plot them all together. As before we can keep adding layers to our plot:"
   ]
  },
  {
   "cell_type": "code",
   "execution_count": 10,
   "metadata": {},
   "outputs": [
    {
     "data": {
      "image/png": "[encoded data removed]",
      "text/plain": [
       "<Figure size 432x288 with 1 Axes>"
      ]
     },
     "metadata": {
      "needs_background": "light"
     },
     "output_type": "display_data"
    }
   ],
   "source": [
    "# Plot the data\n",
    "plt.plot(x, y, label = \"Computer Science\")\n",
    "plt.plot(x, y2, label = \"Law\")\n",
    "plt.plot(x, y3, label = \"Medical School\")\n",
    "plt.plot(x, y4, label = \"Physical Sciences\")\n",
    "\n",
    "# Add axis labels and legend\n",
    "plt.xlabel('Year')\n",
    "plt.ylabel('% women majors')\n",
    "plt.legend()\n",
    "plt.show()"
   ]
  },
  {
   "attachments": {},
   "cell_type": "markdown",
   "metadata": {},
   "source": [
    "You can see I've also added comments to the code to remind me what the different sections do. A comment is any line that begins with '#' and it isn't ran, it is just there for humans to read.\n",
    "\n",
    "<br>\n",
    "\n",
    "We've now plotted all the data!\n",
    "\n",
    "<br><br>"
   ]
  },
  {
   "attachments": {},
   "cell_type": "markdown",
   "metadata": {},
   "source": [
    "### Make it pretty"
   ]
  },
  {
   "attachments": {},
   "cell_type": "markdown",
   "metadata": {},
   "source": [
    "Our graph above looks quite good but we might want to customise it more to our liking. We could first change the colours. We do this by passing an additional 'argument' to our command `plot` to let it know the colour we want to use. A command can have lots of arguments that modify it in different ways, 'label' is also an argument. We divide each argument with a comma so python can tell they're separate. An example of changing all the colours of our graph is below. You can see that on each line we've added a comma after the label argument and added the new argument 'color' (note: the spelling is American in python)."
   ]
  },
  {
   "cell_type": "code",
   "execution_count": 11,
   "metadata": {},
   "outputs": [
    {
     "data": {
      "image/png": "[encoded data removed]",
      "text/plain": [
       "<Figure size 432x288 with 1 Axes>"
      ]
     },
     "metadata": {
      "needs_background": "light"
     },
     "output_type": "display_data"
    }
   ],
   "source": [
    "\n",
    "plt.plot(x, y, label = \"Computer Science\", color = \"red\")\n",
    "plt.plot(x, y2, label = \"Law\", color = \"lightseagreen\")\n",
    "plt.plot(x, y3, label = \"Medical School\", color = \"teal\")\n",
    "plt.plot(x, y4, label = \"Physical Sciences\", color = \"mediumturquoise\")\n",
    "\n",
    "plt.xlabel('Year')\n",
    "plt.ylabel('% women majors')\n",
    "plt.legend()\n",
    "plt.show()"
   ]
  },
  {
   "attachments": {},
   "cell_type": "markdown",
   "metadata": {},
   "source": [
    "<br>\n",
    "\n",
    "You can use any colours you like to customise the graph. You just have to change the name of the colour inside the 'color' argument. The ones below all come included with matplotlib.\n",
    "\n",
    "<br>\n",
    "<center>\n",
    "\n",
    "<img src=\"https://github.com/ejjohnson93/outreach_jupyter/blob/main/images/colours.png?raw=true\" alt=\"Alternative text\" width=\"600\"/>\n",
    "\n",
    "</center>\n",
    "\n",
    "<br>\n",
    "\n",
    "As well as the colours that come included, matplotlib lets you to pick any colour using a hexcode (which is a 6 character number/letter code after a hash).\n",
    "\n",
    "We can create hexcodes for all colours using some of the following links:\n",
    "\n",
    "-   <https://htmlcolorcodes.com/color-picker/>\n",
    "\n",
    "-   <https://imagecolorpicker.com/en>\n",
    "\n",
    "The last link will allow you to create a colour palette from an image and give you the hex codes for the palette.\n",
    "\n",
    "<br>\n",
    "<center>\n",
    "\n",
    "<img src=\"https://github.com/ejjohnson93/outreach_jupyter/blob/main/images/paleete.png?raw=true\" alt=\"Alternative text\" width=\"500\"/>\n",
    "\n",
    "</center>\n",
    "\n",
    "<br>\n",
    "\n",
    "In summary, here is how we edit our plot command to change the colour:\n",
    "\n",
    "<center>\n",
    "\n",
    "<img src=\"https://github.com/ejjohnson93/outreach_jupyter/blob/main/images/palette2.png?raw=true\" alt=\"Alternative text\" width=\"400\"/>\n",
    "\n",
    "</center>\n"
   ]
  },
  {
   "attachments": {},
   "cell_type": "markdown",
   "metadata": {},
   "source": [
    "<b>Challenge: can you change the colours of the graph to ones of your chosing</b>\n",
    "\n",
    "-   Can you change the colours using their names?\n",
    "\n",
    "-   Can you change the colours using hexcodes instead?\n",
    "\n",
    "<br>"
   ]
  },
  {
   "cell_type": "code",
   "execution_count": 12,
   "metadata": {},
   "outputs": [],
   "source": [
    "# CHALLENGE\n",
    "# Code goes here"
   ]
  },
  {
   "attachments": {},
   "cell_type": "markdown",
   "metadata": {},
   "source": [
    "If we wanted to take this one step further we could also modify the line styles and line widths of our plot. We do this by passing even more arguments to the `plot` command, this time, 'linewdith' and 'linestyle'. The different arguments are broken down below:\n",
    "\n",
    "<center>\n",
    "\n",
    "<img src=\"https://github.com/ejjohnson93/outreach_jupyter/blob/main/images/palette3.png?raw=true\" alt=\"Alternative text\" width=\"500\"/>\n",
    "\n",
    "</center>\n",
    "\n",
    "<br>\n",
    "\n",
    "Here is an example of our earlier code but with custom line widths and styles:"
   ]
  },
  {
   "cell_type": "code",
   "execution_count": 13,
   "metadata": {},
   "outputs": [
    {
     "data": {
      "image/png": "[encoded data removed]",
      "text/plain": [
       "<Figure size 432x288 with 1 Axes>"
      ]
     },
     "metadata": {
      "needs_background": "light"
     },
     "output_type": "display_data"
    }
   ],
   "source": [
    "plt.plot(x, y, label = \"Computer Science\", color = \"red\", linewidth=1.5, linestyle=\"solid\")\n",
    "plt.plot(x, y2, label = \"Law\", color = \"lightseagreen\", linewidth=1.4, linestyle = \"dashed\")\n",
    "plt.plot(x, y3, label = \"Medical School\", color = \"teal\", linewidth=1.3, linestyle = \"dotted\")\n",
    "plt.plot(x, y4, label = \"Physical Sciences\", color = \"mediumturquoise\", linewidth=1.2, linestyle = \"dashdot\")\n",
    "\n",
    "plt.xlabel('Year')\n",
    "plt.ylabel('% women majors')\n",
    "plt.legend()\n",
    "plt.show()"
   ]
  },
  {
   "attachments": {},
   "cell_type": "markdown",
   "metadata": {},
   "source": [
    "<br>\n",
    "\n",
    "<b>Challenge: can you edit the code above so the graph has your own custom colours, line widths and styles? </b>\n"
   ]
  },
  {
   "cell_type": "code",
   "execution_count": 14,
   "metadata": {},
   "outputs": [],
   "source": [
    "# CHALLENGE\n",
    "# Code goes here"
   ]
  },
  {
   "attachments": {},
   "cell_type": "markdown",
   "metadata": {},
   "source": [
    "Tweaking the colours and finding the perfect palette sometimes takes too long when we're in a rush and just want to produce a chart quickly. In this case we can use matplotlib's inbuilt styles.\n",
    "\n",
    "We first need to import matplotlib's styles as a new name:\n"
   ]
  },
  {
   "cell_type": "code",
   "execution_count": 15,
   "metadata": {},
   "outputs": [],
   "source": [
    "import matplotlib.style as style "
   ]
  },
  {
   "attachments": {},
   "cell_type": "markdown",
   "metadata": {},
   "source": [
    "We can then see a list of which styles we can use using this code:"
   ]
  },
  {
   "cell_type": "code",
   "execution_count": 16,
   "metadata": {},
   "outputs": [
    {
     "data": {
      "text/plain": [
       "['Solarize_Light2',\n",
       " '_classic_test_patch',\n",
       " '_mpl-gallery',\n",
       " '_mpl-gallery-nogrid',\n",
       " 'bmh',\n",
       " 'classic',\n",
       " 'dark_background',\n",
       " 'fast',\n",
       " 'fivethirtyeight',\n",
       " 'ggplot',\n",
       " 'grayscale',\n",
       " 'seaborn',\n",
       " 'seaborn-bright',\n",
       " 'seaborn-colorblind',\n",
       " 'seaborn-dark',\n",
       " 'seaborn-dark-palette',\n",
       " 'seaborn-darkgrid',\n",
       " 'seaborn-deep',\n",
       " 'seaborn-muted',\n",
       " 'seaborn-notebook',\n",
       " 'seaborn-paper',\n",
       " 'seaborn-pastel',\n",
       " 'seaborn-poster',\n",
       " 'seaborn-talk',\n",
       " 'seaborn-ticks',\n",
       " 'seaborn-white',\n",
       " 'seaborn-whitegrid',\n",
       " 'tableau-colorblind10']"
      ]
     },
     "execution_count": 16,
     "metadata": {},
     "output_type": "execute_result"
    }
   ],
   "source": [
    "style.available"
   ]
  },
  {
   "attachments": {},
   "cell_type": "markdown",
   "metadata": {},
   "source": [
    "An example of one of the styles applied to our graph is below:"
   ]
  },
  {
   "cell_type": "code",
   "execution_count": 17,
   "metadata": {},
   "outputs": [
    {
     "data": {
      "image/png": "[encoded data removed]",
      "text/plain": [
       "<Figure size 432x288 with 1 Axes>"
      ]
     },
     "metadata": {},
     "output_type": "display_data"
    }
   ],
   "source": [
    "style.use('ggplot')\n",
    "\n",
    "plt.plot(x, y, label = \"Computer Science\")\n",
    "plt.plot(x, y2, label = \"Law\")\n",
    "plt.plot(x, y3, label = \"Medical School\")\n",
    "plt.plot(x, y4, label = \"Physical Sciences\")\n",
    "\n",
    "plt.xlabel('Year')\n",
    "plt.ylabel('% women majors')\n",
    "plt.legend()\n",
    "plt.show()"
   ]
  },
  {
   "attachments": {},
   "cell_type": "markdown",
   "metadata": {},
   "source": [
    "<br>\n",
    "\n",
    "<b>Challenge: pick a style! Apply it to your graph instead of the one used in the example above. Try a few, which do you like best? </b>"
   ]
  },
  {
   "cell_type": "code",
   "execution_count": 18,
   "metadata": {},
   "outputs": [],
   "source": [
    "# CHALLENGE\n",
    "# Code goes here"
   ]
  },
  {
   "attachments": {},
   "cell_type": "markdown",
   "metadata": {},
   "source": [
    "# Supplementary activities\n",
    "## Map creation\n",
    "\n",
    "Line charts aren't the only type of data python can plot. We can also create visualisations of maps with the help of another package called 'folium'. An example visualisation is below:\n",
    "\n",
    "<br>\n",
    "<center>\n",
    "\n",
    "<img src=\"https://github.com/ejjohnson93/outreach_jupyter/blob/main/images/open-street-map.png?raw=true\" alt=\"Alternative text\" width=\"500\"/>\n",
    "\n",
    "</center>\n",
    "<br>\n",
    "\n",
    "Let's create our own! By now we should hopefully be a little more familiar with the idea of loading packages to do tasks base python can't do. We'll first load folium:\n"
   ]
  },
  {
   "cell_type": "code",
   "execution_count": 19,
   "metadata": {},
   "outputs": [],
   "source": [
    "# Import folium as 'folium' \n",
    "import folium"
   ]
  },
  {
   "attachments": {},
   "cell_type": "markdown",
   "metadata": {},
   "source": [
    "<br>\n",
    "\n",
    "We haven't renamed folium to anything else here because it's already quite a a short and punchy name but you could name it something else like 'fl' or 'fol' if you liked.\n",
    "\n",
    "One thing we need to pass to folium is the location we want to create a map of. Every location on Earth has a global address. The global address is given in the form of 'co-ordinates'. These are two numbers called 'latitude' and 'longitude'. On the map below we can see the horizontal lines across the globe are the latitude (telling us how far North or South we are) and the vertical lines are the longitude (telling us how far East or West we are).\n",
    "\n",
    "<br>\n",
    "<center>\n",
    "\n",
    "<img src=\"https://github.com/ejjohnson93/outreach_jupyter/blob/main/images/Lat_Long.gif?raw=true\" alt=\"Alternative text\" width=\"500\"/>\n",
    "\n",
    "</center>\n",
    "<br>\n",
    "\n",
    "There are multiple easy ways to get the latitude and longitude.\n",
    "\n",
    "If we find the location we want to use on GoogleMaps we can press 'right click' on our mouse. When we do the numbers will pop up.\n",
    "\n",
    "<br>\n",
    "<center>\n",
    "\n",
    "<img src=\"https://github.com/ejjohnson93/outreach_jupyter/blob/main/images/maps.png?raw=true\" alt=\"Alternative text\" width=\"500\"/>\n",
    "\n",
    "</center>\n",
    "<br>\n",
    "\n",
    "There are various tools like [LatLong](https://www.latlong.net/) that let us enter an address and get the numbers. The link to it is [here](https://www.latlong.net/). If we had a globe on hand we could use the co-ordinates on the globe to pick our values too.\n",
    "\n",
    "We will begin by creating a map of the city where I work: Liverpool. We use the folium command `map` to create a map object, using the co-ordinates for the city of Liverpool (latitude: 53.410782, longitude: -2.977840). The map object is then stored in a variable called 'map' using the equals sign."
   ]
  },
  {
   "cell_type": "code",
   "execution_count": 20,
   "metadata": {},
   "outputs": [],
   "source": [
    "map = folium.Map(location=[53.410782, -2.977840])"
   ]
  },
  {
   "attachments": {},
   "cell_type": "markdown",
   "metadata": {},
   "source": [
    "If we then want to view our map we can type the name of the variable we stored it in:"
   ]
  },
  {
   "cell_type": "code",
   "execution_count": 21,
   "metadata": {},
   "outputs": [
    {
     "data": {
      "text/html": [
       "<div style=\"width:100%;\"><div style=\"position:relative;width:100%;height:0;padding-bottom:60%;\"><span style=\"color:#565656\">Make this Notebook Trusted to load map: File -> Trust Notebook</span><iframe srcdoc=\"&lt;!DOCTYPE html&gt;\n",
       "&lt;html&gt;\n",
       "&lt;head&gt;\n",
       "    \n",
       "    &lt;meta http-equiv=&quot;content-type&quot; content=&quot;text/html; charset=UTF-8&quot; /&gt;\n",
       "    \n",
       "        &lt;script&gt;\n",
       "            L_NO_TOUCH = false;\n",
       "            L_DISABLE_3D = false;\n",
       "        &lt;/script&gt;\n",
       "    \n",
       "    &lt;style&gt;html, body {width: 100%;height: 100%;margin: 0;padding: 0;}&lt;/style&gt;\n",
       "    &lt;style&gt;#map {position:absolute;top:0;bottom:0;right:0;left:0;}&lt;/style&gt;\n",
       "    &lt;script src=&quot;https://cdn.jsdelivr.net/npm/leaflet@1.9.3/dist/leaflet.js&quot;&gt;&lt;/script&gt;\n",
       "    &lt;script src=&quot;https://code.jquery.com/jquery-1.12.4.min.js&quot;&gt;&lt;/script&gt;\n",
       "    &lt;script src=&quot;https://cdn.jsdelivr.net/npm/bootstrap@5.2.2/dist/js/bootstrap.bundle.min.js&quot;&gt;&lt;/script&gt;\n",
       "    &lt;script src=&quot;https://cdnjs.cloudflare.com/ajax/libs/Leaflet.awesome-markers/2.0.2/leaflet.awesome-markers.js&quot;&gt;&lt;/script&gt;\n",
       "    &lt;link rel=&quot;stylesheet&quot; href=&quot;https://cdn.jsdelivr.net/npm/leaflet@1.9.3/dist/leaflet.css&quot;/&gt;\n",
       "    &lt;link rel=&quot;stylesheet&quot; href=&quot;https://cdn.jsdelivr.net/npm/bootstrap@5.2.2/dist/css/bootstrap.min.css&quot;/&gt;\n",
       "    &lt;link rel=&quot;stylesheet&quot; href=&quot;https://netdna.bootstrapcdn.com/bootstrap/3.0.0/css/bootstrap.min.css&quot;/&gt;\n",
       "    &lt;link rel=&quot;stylesheet&quot; href=&quot;https://cdn.jsdelivr.net/npm/@fortawesome/fontawesome-free@6.2.0/css/all.min.css&quot;/&gt;\n",
       "    &lt;link rel=&quot;stylesheet&quot; href=&quot;https://cdnjs.cloudflare.com/ajax/libs/Leaflet.awesome-markers/2.0.2/leaflet.awesome-markers.css&quot;/&gt;\n",
       "    &lt;link rel=&quot;stylesheet&quot; href=&quot;https://cdn.jsdelivr.net/gh/python-visualization/folium/folium/templates/leaflet.awesome.rotate.min.css&quot;/&gt;\n",
       "    \n",
       "            &lt;meta name=&quot;viewport&quot; content=&quot;width=device-width,\n",
       "                initial-scale=1.0, maximum-scale=1.0, user-scalable=no&quot; /&gt;\n",
       "            &lt;style&gt;\n",
       "                #map_60da4fdeb56ee8304e9d5a55ebad0704 {\n",
       "                    position: relative;\n",
       "                    width: 100.0%;\n",
       "                    height: 100.0%;\n",
       "                    left: 0.0%;\n",
       "                    top: 0.0%;\n",
       "                }\n",
       "                .leaflet-container { font-size: 1rem; }\n",
       "            &lt;/style&gt;\n",
       "        \n",
       "&lt;/head&gt;\n",
       "&lt;body&gt;\n",
       "    \n",
       "    \n",
       "            &lt;div class=&quot;folium-map&quot; id=&quot;map_60da4fdeb56ee8304e9d5a55ebad0704&quot; &gt;&lt;/div&gt;\n",
       "        \n",
       "&lt;/body&gt;\n",
       "&lt;script&gt;\n",
       "    \n",
       "    \n",
       "            var map_60da4fdeb56ee8304e9d5a55ebad0704 = L.map(\n",
       "                &quot;map_60da4fdeb56ee8304e9d5a55ebad0704&quot;,\n",
       "                {\n",
       "                    center: [53.410782, -2.97784],\n",
       "                    crs: L.CRS.EPSG3857,\n",
       "                    zoom: 10,\n",
       "                    zoomControl: true,\n",
       "                    preferCanvas: false,\n",
       "                }\n",
       "            );\n",
       "\n",
       "            \n",
       "\n",
       "        \n",
       "    \n",
       "            var tile_layer_b2e5e3871b2da22c3bf92bf1c0d0ef9e = L.tileLayer(\n",
       "                &quot;https://{s}.tile.openstreetmap.org/{z}/{x}/{y}.png&quot;,\n",
       "                {&quot;attribution&quot;: &quot;Data by \\u0026copy; \\u003ca target=\\&quot;_blank\\&quot; href=\\&quot;http://openstreetmap.org\\&quot;\\u003eOpenStreetMap\\u003c/a\\u003e, under \\u003ca target=\\&quot;_blank\\&quot; href=\\&quot;http://www.openstreetmap.org/copyright\\&quot;\\u003eODbL\\u003c/a\\u003e.&quot;, &quot;detectRetina&quot;: false, &quot;maxNativeZoom&quot;: 18, &quot;maxZoom&quot;: 18, &quot;minZoom&quot;: 0, &quot;noWrap&quot;: false, &quot;opacity&quot;: 1, &quot;subdomains&quot;: &quot;abc&quot;, &quot;tms&quot;: false}\n",
       "            ).addTo(map_60da4fdeb56ee8304e9d5a55ebad0704);\n",
       "        \n",
       "&lt;/script&gt;\n",
       "&lt;/html&gt;\" style=\"position:absolute;width:100%;height:100%;left:0;top:0;border:none !important;\" allowfullscreen webkitallowfullscreen mozallowfullscreen></iframe></div></div>"
      ],
      "text/plain": [
       "<folium.folium.Map at 0x7f106d1ab610>"
      ]
     },
     "execution_count": 21,
     "metadata": {},
     "output_type": "execute_result"
    }
   ],
   "source": [
    "map"
   ]
  },
  {
   "attachments": {},
   "cell_type": "markdown",
   "metadata": {},
   "source": [
    "<br>\n",
    "\n",
    "I might want my map to be more zoomed in on a particular location, like the University of Liverpool. Like in the plotting acitvity, we do this by passing another argument to the `map` command called 'zoom_start'. The maximum number for 'zoom_start' is 18, and the minimum is 0."
   ]
  },
  {
   "cell_type": "code",
   "execution_count": 22,
   "metadata": {},
   "outputs": [],
   "source": [
    "map2 = folium.Map(location=[53.4074271, -2.96251923], zoom_start=17)"
   ]
  },
  {
   "cell_type": "code",
   "execution_count": 23,
   "metadata": {},
   "outputs": [
    {
     "data": {
      "text/html": [
       "<div style=\"width:100%;\"><div style=\"position:relative;width:100%;height:0;padding-bottom:60%;\"><span style=\"color:#565656\">Make this Notebook Trusted to load map: File -> Trust Notebook</span><iframe srcdoc=\"&lt;!DOCTYPE html&gt;\n",
       "&lt;html&gt;\n",
       "&lt;head&gt;\n",
       "    \n",
       "    &lt;meta http-equiv=&quot;content-type&quot; content=&quot;text/html; charset=UTF-8&quot; /&gt;\n",
       "    \n",
       "        &lt;script&gt;\n",
       "            L_NO_TOUCH = false;\n",
       "            L_DISABLE_3D = false;\n",
       "        &lt;/script&gt;\n",
       "    \n",
       "    &lt;style&gt;html, body {width: 100%;height: 100%;margin: 0;padding: 0;}&lt;/style&gt;\n",
       "    &lt;style&gt;#map {position:absolute;top:0;bottom:0;right:0;left:0;}&lt;/style&gt;\n",
       "    &lt;script src=&quot;https://cdn.jsdelivr.net/npm/leaflet@1.9.3/dist/leaflet.js&quot;&gt;&lt;/script&gt;\n",
       "    &lt;script src=&quot;https://code.jquery.com/jquery-1.12.4.min.js&quot;&gt;&lt;/script&gt;\n",
       "    &lt;script src=&quot;https://cdn.jsdelivr.net/npm/bootstrap@5.2.2/dist/js/bootstrap.bundle.min.js&quot;&gt;&lt;/script&gt;\n",
       "    &lt;script src=&quot;https://cdnjs.cloudflare.com/ajax/libs/Leaflet.awesome-markers/2.0.2/leaflet.awesome-markers.js&quot;&gt;&lt;/script&gt;\n",
       "    &lt;link rel=&quot;stylesheet&quot; href=&quot;https://cdn.jsdelivr.net/npm/leaflet@1.9.3/dist/leaflet.css&quot;/&gt;\n",
       "    &lt;link rel=&quot;stylesheet&quot; href=&quot;https://cdn.jsdelivr.net/npm/bootstrap@5.2.2/dist/css/bootstrap.min.css&quot;/&gt;\n",
       "    &lt;link rel=&quot;stylesheet&quot; href=&quot;https://netdna.bootstrapcdn.com/bootstrap/3.0.0/css/bootstrap.min.css&quot;/&gt;\n",
       "    &lt;link rel=&quot;stylesheet&quot; href=&quot;https://cdn.jsdelivr.net/npm/@fortawesome/fontawesome-free@6.2.0/css/all.min.css&quot;/&gt;\n",
       "    &lt;link rel=&quot;stylesheet&quot; href=&quot;https://cdnjs.cloudflare.com/ajax/libs/Leaflet.awesome-markers/2.0.2/leaflet.awesome-markers.css&quot;/&gt;\n",
       "    &lt;link rel=&quot;stylesheet&quot; href=&quot;https://cdn.jsdelivr.net/gh/python-visualization/folium/folium/templates/leaflet.awesome.rotate.min.css&quot;/&gt;\n",
       "    \n",
       "            &lt;meta name=&quot;viewport&quot; content=&quot;width=device-width,\n",
       "                initial-scale=1.0, maximum-scale=1.0, user-scalable=no&quot; /&gt;\n",
       "            &lt;style&gt;\n",
       "                #map_9030fb306053ce89a718bd1d616baa66 {\n",
       "                    position: relative;\n",
       "                    width: 100.0%;\n",
       "                    height: 100.0%;\n",
       "                    left: 0.0%;\n",
       "                    top: 0.0%;\n",
       "                }\n",
       "                .leaflet-container { font-size: 1rem; }\n",
       "            &lt;/style&gt;\n",
       "        \n",
       "&lt;/head&gt;\n",
       "&lt;body&gt;\n",
       "    \n",
       "    \n",
       "            &lt;div class=&quot;folium-map&quot; id=&quot;map_9030fb306053ce89a718bd1d616baa66&quot; &gt;&lt;/div&gt;\n",
       "        \n",
       "&lt;/body&gt;\n",
       "&lt;script&gt;\n",
       "    \n",
       "    \n",
       "            var map_9030fb306053ce89a718bd1d616baa66 = L.map(\n",
       "                &quot;map_9030fb306053ce89a718bd1d616baa66&quot;,\n",
       "                {\n",
       "                    center: [53.4074271, -2.96251923],\n",
       "                    crs: L.CRS.EPSG3857,\n",
       "                    zoom: 17,\n",
       "                    zoomControl: true,\n",
       "                    preferCanvas: false,\n",
       "                }\n",
       "            );\n",
       "\n",
       "            \n",
       "\n",
       "        \n",
       "    \n",
       "            var tile_layer_bb13d3211eea8d71b3721f85310135a6 = L.tileLayer(\n",
       "                &quot;https://{s}.tile.openstreetmap.org/{z}/{x}/{y}.png&quot;,\n",
       "                {&quot;attribution&quot;: &quot;Data by \\u0026copy; \\u003ca target=\\&quot;_blank\\&quot; href=\\&quot;http://openstreetmap.org\\&quot;\\u003eOpenStreetMap\\u003c/a\\u003e, under \\u003ca target=\\&quot;_blank\\&quot; href=\\&quot;http://www.openstreetmap.org/copyright\\&quot;\\u003eODbL\\u003c/a\\u003e.&quot;, &quot;detectRetina&quot;: false, &quot;maxNativeZoom&quot;: 18, &quot;maxZoom&quot;: 18, &quot;minZoom&quot;: 0, &quot;noWrap&quot;: false, &quot;opacity&quot;: 1, &quot;subdomains&quot;: &quot;abc&quot;, &quot;tms&quot;: false}\n",
       "            ).addTo(map_9030fb306053ce89a718bd1d616baa66);\n",
       "        \n",
       "&lt;/script&gt;\n",
       "&lt;/html&gt;\" style=\"position:absolute;width:100%;height:100%;left:0;top:0;border:none !important;\" allowfullscreen webkitallowfullscreen mozallowfullscreen></iframe></div></div>"
      ],
      "text/plain": [
       "<folium.folium.Map at 0x7f106d1ab9a0>"
      ]
     },
     "execution_count": 23,
     "metadata": {},
     "output_type": "execute_result"
    }
   ],
   "source": [
    "map2"
   ]
  },
  {
   "attachments": {},
   "cell_type": "markdown",
   "metadata": {},
   "source": [
    "<br>\n",
    "\n",
    "Finally, we can change the appearance of our map to a number of different themes. Here we use one called 'stamen watercolor'. It doesn't contain a lot of information but it is quite pretty. You could use it to help generate a map for a fantasy story or game.\n",
    "\n",
    "The list of themes we could use: \"OpenStreetMap\" (the default), \"Stamen Watercolor\", \"Stamen Terrain\" or \"Stamen Toner\"."
   ]
  },
  {
   "cell_type": "code",
   "execution_count": 24,
   "metadata": {},
   "outputs": [],
   "source": [
    "map3 = folium.Map(location=[53.4074271, -2.96251923],\n",
    "  tiles=\"Stamen Watercolor\",\n",
    "  zoom_start=12)"
   ]
  },
  {
   "cell_type": "code",
   "execution_count": 25,
   "metadata": {},
   "outputs": [
    {
     "data": {
      "text/html": [
       "<div style=\"width:100%;\"><div style=\"position:relative;width:100%;height:0;padding-bottom:60%;\"><span style=\"color:#565656\">Make this Notebook Trusted to load map: File -> Trust Notebook</span><iframe srcdoc=\"&lt;!DOCTYPE html&gt;\n",
       "&lt;html&gt;\n",
       "&lt;head&gt;\n",
       "    \n",
       "    &lt;meta http-equiv=&quot;content-type&quot; content=&quot;text/html; charset=UTF-8&quot; /&gt;\n",
       "    \n",
       "        &lt;script&gt;\n",
       "            L_NO_TOUCH = false;\n",
       "            L_DISABLE_3D = false;\n",
       "        &lt;/script&gt;\n",
       "    \n",
       "    &lt;style&gt;html, body {width: 100%;height: 100%;margin: 0;padding: 0;}&lt;/style&gt;\n",
       "    &lt;style&gt;#map {position:absolute;top:0;bottom:0;right:0;left:0;}&lt;/style&gt;\n",
       "    &lt;script src=&quot;https://cdn.jsdelivr.net/npm/leaflet@1.9.3/dist/leaflet.js&quot;&gt;&lt;/script&gt;\n",
       "    &lt;script src=&quot;https://code.jquery.com/jquery-1.12.4.min.js&quot;&gt;&lt;/script&gt;\n",
       "    &lt;script src=&quot;https://cdn.jsdelivr.net/npm/bootstrap@5.2.2/dist/js/bootstrap.bundle.min.js&quot;&gt;&lt;/script&gt;\n",
       "    &lt;script src=&quot;https://cdnjs.cloudflare.com/ajax/libs/Leaflet.awesome-markers/2.0.2/leaflet.awesome-markers.js&quot;&gt;&lt;/script&gt;\n",
       "    &lt;link rel=&quot;stylesheet&quot; href=&quot;https://cdn.jsdelivr.net/npm/leaflet@1.9.3/dist/leaflet.css&quot;/&gt;\n",
       "    &lt;link rel=&quot;stylesheet&quot; href=&quot;https://cdn.jsdelivr.net/npm/bootstrap@5.2.2/dist/css/bootstrap.min.css&quot;/&gt;\n",
       "    &lt;link rel=&quot;stylesheet&quot; href=&quot;https://netdna.bootstrapcdn.com/bootstrap/3.0.0/css/bootstrap.min.css&quot;/&gt;\n",
       "    &lt;link rel=&quot;stylesheet&quot; href=&quot;https://cdn.jsdelivr.net/npm/@fortawesome/fontawesome-free@6.2.0/css/all.min.css&quot;/&gt;\n",
       "    &lt;link rel=&quot;stylesheet&quot; href=&quot;https://cdnjs.cloudflare.com/ajax/libs/Leaflet.awesome-markers/2.0.2/leaflet.awesome-markers.css&quot;/&gt;\n",
       "    &lt;link rel=&quot;stylesheet&quot; href=&quot;https://cdn.jsdelivr.net/gh/python-visualization/folium/folium/templates/leaflet.awesome.rotate.min.css&quot;/&gt;\n",
       "    \n",
       "            &lt;meta name=&quot;viewport&quot; content=&quot;width=device-width,\n",
       "                initial-scale=1.0, maximum-scale=1.0, user-scalable=no&quot; /&gt;\n",
       "            &lt;style&gt;\n",
       "                #map_f5910f710cab5a262833cbcaa53ae419 {\n",
       "                    position: relative;\n",
       "                    width: 100.0%;\n",
       "                    height: 100.0%;\n",
       "                    left: 0.0%;\n",
       "                    top: 0.0%;\n",
       "                }\n",
       "                .leaflet-container { font-size: 1rem; }\n",
       "            &lt;/style&gt;\n",
       "        \n",
       "&lt;/head&gt;\n",
       "&lt;body&gt;\n",
       "    \n",
       "    \n",
       "            &lt;div class=&quot;folium-map&quot; id=&quot;map_f5910f710cab5a262833cbcaa53ae419&quot; &gt;&lt;/div&gt;\n",
       "        \n",
       "&lt;/body&gt;\n",
       "&lt;script&gt;\n",
       "    \n",
       "    \n",
       "            var map_f5910f710cab5a262833cbcaa53ae419 = L.map(\n",
       "                &quot;map_f5910f710cab5a262833cbcaa53ae419&quot;,\n",
       "                {\n",
       "                    center: [53.4074271, -2.96251923],\n",
       "                    crs: L.CRS.EPSG3857,\n",
       "                    zoom: 12,\n",
       "                    zoomControl: true,\n",
       "                    preferCanvas: false,\n",
       "                }\n",
       "            );\n",
       "\n",
       "            \n",
       "\n",
       "        \n",
       "    \n",
       "            var tile_layer_1dd1c15e3751862972d8c16268f68102 = L.tileLayer(\n",
       "                &quot;https://stamen-tiles-{s}.a.ssl.fastly.net/watercolor/{z}/{x}/{y}.jpg&quot;,\n",
       "                {&quot;attribution&quot;: &quot;Map tiles by \\u003ca target=\\&quot;_blank\\&quot; href=\\&quot;http://stamen.com\\&quot;\\u003eStamen Design\\u003c/a\\u003e, under \\u003ca target=\\&quot;_blank\\&quot; href=\\&quot;http://creativecommons.org/licenses/by/3.0\\&quot;\\u003eCC BY 3.0\\u003c/a\\u003e. Data by \\u0026copy; \\u003ca target=\\&quot;_blank\\&quot; href=\\&quot;http://openstreetmap.org\\&quot;\\u003eOpenStreetMap\\u003c/a\\u003e, under \\u003ca target=\\&quot;_blank\\&quot; href=\\&quot;http://creativecommons.org/licenses/by-sa/3.0\\&quot;\\u003eCC BY SA\\u003c/a\\u003e.&quot;, &quot;detectRetina&quot;: false, &quot;maxNativeZoom&quot;: 18, &quot;maxZoom&quot;: 18, &quot;minZoom&quot;: 0, &quot;noWrap&quot;: false, &quot;opacity&quot;: 1, &quot;subdomains&quot;: &quot;abc&quot;, &quot;tms&quot;: false}\n",
       "            ).addTo(map_f5910f710cab5a262833cbcaa53ae419);\n",
       "        \n",
       "&lt;/script&gt;\n",
       "&lt;/html&gt;\" style=\"position:absolute;width:100%;height:100%;left:0;top:0;border:none !important;\" allowfullscreen webkitallowfullscreen mozallowfullscreen></iframe></div></div>"
      ],
      "text/plain": [
       "<folium.folium.Map at 0x7f106d1d1220>"
      ]
     },
     "execution_count": 25,
     "metadata": {},
     "output_type": "execute_result"
    }
   ],
   "source": [
    "map3"
   ]
  },
  {
   "attachments": {},
   "cell_type": "markdown",
   "metadata": {},
   "source": [
    "<br>\n",
    "\n",
    "<b> Challenge: can you create a map of your school's location? </b>\n",
    "\n",
    "-   Can you zoom in on it?\n",
    "\n",
    "-   Can you change the theme?"
   ]
  },
  {
   "cell_type": "code",
   "execution_count": 26,
   "metadata": {},
   "outputs": [],
   "source": [
    "# CHALLENGE\n",
    "# Code goes here"
   ]
  },
  {
   "attachments": {},
   "cell_type": "markdown",
   "metadata": {},
   "source": [
    "<b> Challenge: pick another location, preferably somewhere outside the UK. Can you make a map for it? </b>\n",
    "\n",
    "-   If you wanted to you could also just pick random values for latitude and longitude and see what you find! Values for latitude (the horizontal lines) can be between -90 and 90. Values for longitude (the vertical lines) can be between -180 and 180. Be warned, you're most likely to just end up with open sea if you choose at random...\n",
    "\n",
    "<br>\n"
   ]
  },
  {
   "cell_type": "code",
   "execution_count": 27,
   "metadata": {},
   "outputs": [],
   "source": [
    "# CHALLENGE\n",
    "# Code goes here"
   ]
  },
  {
   "attachments": {},
   "cell_type": "markdown",
   "metadata": {},
   "source": [
    "# Conclusions\n",
    "\n",
    "In these activities we have used Python to visualise data. In the first activity we created and customised a line chart (how do these compare to the ones you might have made in Microsoft Excel?). In the second we learned about maps and co-ordinates, and how we can use Python to create our own maps.\n",
    "\n",
    "Effectively communicating information via data visualisation is a hugely important skill in the 21st century in many fields. Health care professionals and scientists especially need to know how to communicate effectively with the public to convey their findings.\n",
    "\n",
    "Learning how to interpret charts and graphs is just as important. People can use graphics to accidentally or intentionally mislead people and make the data appear to say something different. For example, take a look at this graph produced by St. Louis Fed (USA) below:\n",
    "\n",
    "<br>\n",
    "\n",
    "<br>\n",
    "<center>\n",
    "\n",
    "<img src=\"https://github.com/ejjohnson93/outreach_jupyter/blob/main/images/FnGu4FXWIAIfeLq.png?raw=true\" alt=\"Alternative text\" width=\"500\"/>\n",
    "\n",
    "</center>\n",
    "<br>\n",
    "\n",
    "At a glance this graph would appear to suggest China has dramatically higher spending than all the other countries in 2020. But if we read the figure legend carefully we can see that there are two y-axes for the data. China, Russia, the UK, India and Saudi Arabia are all plotted on the left axis. The USA alone is plotted on the right axis. In reality the USA spent nearly $800 billion on its military, whereas China only spent ~$250 billion. Whilst the data plotted is technically correct the way it was visualised is very misleading. Take a look at this other visualisation that conveys nearly the same information:\n",
    "\n",
    "<br>\n",
    "<center>\n",
    "\n",
    "<img src=\"https://github.com/ejjohnson93/outreach_jupyter/blob/main/images/FnHdNsKXkAIORGP.png?raw=true\" alt=\"Alternative text\" width=\"500\"/>\n",
    "\n",
    "</center>\n",
    "<br>\n",
    "\n",
    "Here, the creators used a bar chart alongside a stacked bar chart to show the proportions of military spending. Though the time dimension was lost, this graphic is a lot more truthful and a lot more effective! St. Louis Fed (USA) later issued an apology and clarification for the misleading nature of their original graphic.\n",
    "\n",
    "Misleading data visualisation techniques were used frequently throughout the COVID-19 pandemic to spread misinformation. By creating our own data visualisations we can hopefully gain a greater understanding of how they are used and misused in media, and critically engage with the ones we see in the news.\n",
    "\n",
    "<br> <br>"
   ]
  }
 ],
 "metadata": {
  "kernelspec": {
   "display_name": "base",
   "language": "python",
   "name": "python3"
  },
  "language_info": {
   "codemirror_mode": {
    "name": "ipython",
    "version": 3
   },
   "file_extension": ".py",
   "mimetype": "text/x-python",
   "name": "python",
   "nbconvert_exporter": "python",
   "pygments_lexer": "ipython3",
   "version": "3.9.12"
  },
  "orig_nbformat": 4,
  "vscode": {
   "interpreter": {
    "hash": "40a01ddbf75fe6519188ed3b7b447b02cedbf6edc2c26f6df0e3a655f802c487"
   }
  }
 },
 "nbformat": 4,
 "nbformat_minor": 2
}
