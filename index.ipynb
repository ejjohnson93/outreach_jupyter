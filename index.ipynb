{
 "cells": [
  {
   "attachments": {},
   "cell_type": "markdown",
   "metadata": {},
   "source": [
    "# Introduction\n",
    "\n",
    "One of the most popular uses for python is for data analysis and visualisation. You might have created a graph in MicroSoft Excel before. During this process we have to click around the software to modify our graph's appearance/what data it takes as an input. This might not take too much time if you're only doing it once but what if you had to make similar graphs another ten times? A hundred times? Or a thousand times? The process would quickly get very boring, take a lot of time, and you'd be more likely to make mistakes.\n",
    "\n",
    "We can use a python package called `matplotlib` to help us plot data using python. In this case, our program is a series of instructions telling matplotlib what data to use and how to format it. Its very customisable and you can use the same code over and over again.\n",
    "\n",
    "This activity is a little more difficult than the ones before it. Don't worry if you don't understand how all the code works. Here you will mostly copy and paste it and just edit snippets. The aim is to show you how python is used for plotting since this is important in lots of jobs like data science and research!\n",
    "\n",
    "<br> <br>"
   ]
  },
  {
   "attachments": {},
   "cell_type": "markdown",
   "metadata": {},
   "source": [
    "# Python plotting\n",
    "\n",
    "## Women in STEM\n",
    "\n",
    "In the following activity we are going to create our own customised version of this graph:\n",
    "\n",
    "<br>\n",
    "<center>\n",
    "\n",
    "<img src=\"https://github.com/ejjohnson93/outreach_jupyter/blob/main/images/12.png?raw=true\" alt=\"Alternative text\" width=\"400\"/>\n",
    "\n",
    "</center>\n",
    "<br>\n",
    "\n",
    "We will use our own colours, line widths and line styles. In our previous activities we used replit to run all our code contained in a python script. This was ideal as we wanted to run all our code in one go. However, in this activity we want to be able to customise our graphs in an interactive way. Because of this we are going to use a type of python notebook called a 'Jupyter notebook'. A Jupyter notebook allows you to create small blocks of code and run the blocks one at a time. You can make changes to just one block and see what happens.\n",
    "\n",
    "<br>\n",
    "\n",
    "<br>\n",
    "\n",
    "### Load our packages\n",
    "\n",
    "In the previous activity we loaded a python package called `sleep` that contained functions to let python carry out additional tasks. Python does not know how to process and plot data on its own. So in this activity we're going to need to load two extra packages known as 'pandas' and 'matplotlib'. 'Pandas' is a package that lets python read and edit data, much like you'd use Excel to process raw data. 'Matplotlib' is the package that then lets us plot the data. We'd load them by pasting the following code into our first chunk and pressing the play button:\n"
   ]
  },
  {
   "cell_type": "code",
   "execution_count": null,
   "metadata": {},
   "outputs": [],
   "source": [
    "# Code goes here"
   ]
  },
  {
   "attachments": {},
   "cell_type": "markdown",
   "metadata": {},
   "source": [
    "<br>\n",
    "\n",
    "You might notice the code is slightly different from activity 2.\n",
    "\n",
    "Instead of `import <packagename>` we have `import <packagename> as <newname>` .\n",
    "\n",
    "In activity 2, we mentioned that to use the functions contained inside a package we need the package name, then a full stop, then the function, like so:\n",
    "\n",
    "`time.sleep`\n",
    "\n",
    "<br>\n",
    "\n",
    "However, 'Matplotlib.pyplot' is quite a lot of letters to type every time! Each time we used it we'd have to type:\n",
    "\n",
    "`matplotlib.pyplot.plot`\n",
    "\n",
    "<br>\n",
    "\n",
    "Instead, we can rename the package as we import it to something simple and easy to remember. In this case 'plt'. So the above line of code would become:\n",
    "\n",
    "`plt.plot`\n",
    "\n",
    "<br>\n",
    "\n",
    "In summary, this is how we load and rename a package:\n",
    "\n",
    "<br>\n",
    "<center>\n",
    "\n",
    "<img src=\"https://github.com/ejjohnson93/outreach_jupyter/blob/main/images/import2.png?raw=true\" alt=\"Alternative text\" width=\"400\"/>\n",
    "\n",
    "</center>\n",
    "<br><br>"
   ]
  },
  {
   "attachments": {},
   "cell_type": "markdown",
   "metadata": {},
   "source": [
    "### Load the data\n",
    "\n",
    "The data we're going to be using can be found [here](https://raw.githubusercontent.com/ejjohnson93/ejjohnson93.github.io/main/data/women_stem_data.csv). We are going to load it using the package mentioned earlier 'pandas'. Remember, we have loaded 'pandas' and renamed it to 'pd'.\n",
    "\n",
    "<br>\n",
    "\n",
    "The code to load the data is:"
   ]
  },
  {
   "cell_type": "code",
   "execution_count": null,
   "metadata": {},
   "outputs": [],
   "source": [
    "# Code goes here"
   ]
  },
  {
   "attachments": {},
   "cell_type": "markdown",
   "metadata": {},
   "source": [
    "In this case we use the `read_csv` function contained inside the 'pandas' package to load the data at the url. We then store it in a variable called 'data' using the equals sign.\n",
    "\n",
    "We can view the data by typing the name of the variable in a code chunk:"
   ]
  },
  {
   "cell_type": "code",
   "execution_count": null,
   "metadata": {},
   "outputs": [],
   "source": [
    "# Code goes here"
   ]
  },
  {
   "attachments": {},
   "cell_type": "markdown",
   "metadata": {},
   "source": [
    "### Plot it!"
   ]
  },
  {
   "attachments": {},
   "cell_type": "markdown",
   "metadata": {},
   "source": [
    "Now that our data is loaded we can start plotting it. We are going to create a line graph. A line graph has an x-axis and a y-axis. In this case our x-axis is time in years. Our y-axis is the percentage of majors that are women.\n",
    "\n",
    "Lets begin by just plotting the data for computer science."
   ]
  },
  {
   "cell_type": "code",
   "execution_count": null,
   "metadata": {},
   "outputs": [],
   "source": [
    "# Code goes here"
   ]
  },
  {
   "cell_type": "code",
   "execution_count": null,
   "metadata": {},
   "outputs": [],
   "source": [
    "# Code goes here"
   ]
  },
  {
   "cell_type": "code",
   "execution_count": null,
   "metadata": {},
   "outputs": [],
   "source": [
    "# Code goes here"
   ]
  },
  {
   "attachments": {},
   "cell_type": "markdown",
   "metadata": {},
   "source": [
    "Our plot is currently missing labels for the a-xis and y-axis... but Matplotlib lets us layer up the different features of our plot. Let's now add x and y axis labels:\n"
   ]
  },
  {
   "cell_type": "code",
   "execution_count": null,
   "metadata": {},
   "outputs": [],
   "source": [
    "# Code goes here"
   ]
  },
  {
   "attachments": {},
   "cell_type": "markdown",
   "metadata": {},
   "source": [
    "<br>\n",
    "\n",
    "That's a bit better... but we should also include a key for data so a reader understands what the line refers to."
   ]
  },
  {
   "cell_type": "code",
   "execution_count": null,
   "metadata": {},
   "outputs": [],
   "source": [
    "# Code goes here"
   ]
  },
  {
   "attachments": {},
   "cell_type": "markdown",
   "metadata": {},
   "source": [
    "<br>\n",
    "\n",
    "Now lets include the data for the other subjects. We can store each subject in a new y data variable. We'll call them y, y2, y3 and y4. y contains the data for computer science, y2 contains the data for law, y3 contains the data for medical school and y4 contains the data for the physical sciences."
   ]
  },
  {
   "cell_type": "code",
   "execution_count": null,
   "metadata": {},
   "outputs": [],
   "source": [
    "# Code goes here"
   ]
  },
  {
   "attachments": {},
   "cell_type": "markdown",
   "metadata": {},
   "source": [
    "<br>\n",
    "\n",
    "Now we can plot them all together. As before we can keep adding layers to our plot:"
   ]
  },
  {
   "cell_type": "code",
   "execution_count": null,
   "metadata": {},
   "outputs": [],
   "source": [
    "# Code goes here"
   ]
  },
  {
   "attachments": {},
   "cell_type": "markdown",
   "metadata": {},
   "source": [
    "You can see I've also added comments to the code to remind me what the different sections do. A comment is any line that begins with '#' and it isn't ran, it is just there for humans to read.\n",
    "\n",
    "<br>\n",
    "\n",
    "We've now plotted all the data!\n",
    "\n",
    "<br><br>"
   ]
  },
  {
   "attachments": {},
   "cell_type": "markdown",
   "metadata": {},
   "source": [
    "### Make it pretty"
   ]
  },
  {
   "attachments": {},
   "cell_type": "markdown",
   "metadata": {},
   "source": [
    "Our graph above looks quite good but we might want to customise it more to our liking. We could first change the colours. We do this by passing an additional 'argument' to our command `plot` to let it know the colour we want to use. A command can have lots of arguments that modify it in different ways, 'label' is also an argument. We divide each argument with a comma so python can tell they're separate. An example of changing all the colours of our graph is below. You can see that on each line we've added a comma after the label argument and added the new argument 'color' (note: the spelling is American in python)."
   ]
  },
  {
   "cell_type": "code",
   "execution_count": null,
   "metadata": {},
   "outputs": [],
   "source": [
    "# Code goes here"
   ]
  },
  {
   "attachments": {},
   "cell_type": "markdown",
   "metadata": {},
   "source": [
    "<br>\n",
    "\n",
    "You can use any colours you like to customise the graph. You just have to change the name of the colour inside the 'color' argument. The ones below all come included with matplotlib.\n",
    "\n",
    "<br>\n",
    "<center>\n",
    "\n",
    "<img src=\"https://github.com/ejjohnson93/outreach_jupyter/blob/main/images/colours.png?raw=true\" alt=\"Alternative text\" width=\"600\"/>\n",
    "\n",
    "</center>\n",
    "\n",
    "<br>\n",
    "\n",
    "As well as the colours that come included, matplotlib lets you to pick any colour using a hexcode (which is a 6 character number/letter code after a hash).\n",
    "\n",
    "We can create hexcodes for all colours using some of the following links:\n",
    "\n",
    "-   <https://htmlcolorcodes.com/color-picker/>\n",
    "\n",
    "-   <https://imagecolorpicker.com/en>\n",
    "\n",
    "The last link will allow you to create a colour palette from an image and give you the hex codes for the palette.\n",
    "\n",
    "<br>\n",
    "<center>\n",
    "\n",
    "<img src=\"https://github.com/ejjohnson93/outreach_jupyter/blob/main/images/paleete.png?raw=true\" alt=\"Alternative text\" width=\"500\"/>\n",
    "\n",
    "</center>\n",
    "\n",
    "<br>\n",
    "\n",
    "In summary, here is how we edit our plot command to change the colour:\n",
    "\n",
    "<center>\n",
    "\n",
    "<img src=\"https://github.com/ejjohnson93/outreach_jupyter/blob/main/images/palette2.png?raw=true\" alt=\"Alternative text\" width=\"400\"/>\n",
    "\n",
    "</center>\n"
   ]
  },
  {
   "attachments": {},
   "cell_type": "markdown",
   "metadata": {},
   "source": [
    "<b>Challenge: can you change the colours of the graph to ones of your chosing</b>\n",
    "\n",
    "-   Can you change the colours using their names?\n",
    "\n",
    "-   Can you change the colours using hexcodes instead?\n",
    "\n",
    "<br>"
   ]
  },
  {
   "cell_type": "code",
   "execution_count": null,
   "metadata": {},
   "outputs": [],
   "source": [
    "# CHALLENGE\n",
    "# Code goes here"
   ]
  },
  {
   "attachments": {},
   "cell_type": "markdown",
   "metadata": {},
   "source": [
    "If we wanted to take this one step further we could also modify the line styles and line widths of our plot. We do this by passing even more arguments to the `plot` command, this time, 'linewdith' and 'linestyle'. The different arguments are broken down below:\n",
    "\n",
    "<center>\n",
    "\n",
    "<img src=\"https://github.com/ejjohnson93/outreach_jupyter/blob/main/images/palette3.png?raw=true\" alt=\"Alternative text\" width=\"500\"/>\n",
    "\n",
    "</center>\n",
    "\n",
    "<br>\n",
    "\n",
    "Here is an example of our earlier code but with custom line widths and styles:"
   ]
  },
  {
   "cell_type": "code",
   "execution_count": null,
   "metadata": {},
   "outputs": [],
   "source": [
    "# Code goes here"
   ]
  },
  {
   "attachments": {},
   "cell_type": "markdown",
   "metadata": {},
   "source": [
    "<br>\n",
    "\n",
    "<b>Challenge: can you edit the code above so the graph has your own custom colours, line widths and styles? </b>\n"
   ]
  },
  {
   "cell_type": "code",
   "execution_count": null,
   "metadata": {},
   "outputs": [],
   "source": [
    "# CHALLENGE\n",
    "# Code goes here"
   ]
  },
  {
   "attachments": {},
   "cell_type": "markdown",
   "metadata": {},
   "source": [
    "Tweaking the colours and finding the perfect palette sometimes takes too long when we're in a rush and just want to produce a chart quickly. In this case we can use matplotlib's inbuilt styles.\n",
    "\n",
    "We first need to import matplotlib's styles as a new name:\n"
   ]
  },
  {
   "cell_type": "code",
   "execution_count": null,
   "metadata": {},
   "outputs": [],
   "source": [
    "# Code goes here"
   ]
  },
  {
   "attachments": {},
   "cell_type": "markdown",
   "metadata": {},
   "source": [
    "We can then see a list of which styles we can use using this code:"
   ]
  },
  {
   "cell_type": "code",
   "execution_count": null,
   "metadata": {},
   "outputs": [],
   "source": [
    "# Code goes here"
   ]
  },
  {
   "attachments": {},
   "cell_type": "markdown",
   "metadata": {},
   "source": [
    "An example of one of the styles applied to our graph is below:"
   ]
  },
  {
   "cell_type": "code",
   "execution_count": null,
   "metadata": {},
   "outputs": [],
   "source": [
    "# Code goes here"
   ]
  },
  {
   "attachments": {},
   "cell_type": "markdown",
   "metadata": {},
   "source": [
    "<br>\n",
    "\n",
    "<b>Challenge: pick a style! Apply it to your graph instead of the one used in the example above. Try a few, which do you like best? </b>"
   ]
  },
  {
   "cell_type": "code",
   "execution_count": null,
   "metadata": {},
   "outputs": [],
   "source": [
    "# CHALLENGE\n",
    "# Code goes here"
   ]
  },
  {
   "attachments": {},
   "cell_type": "markdown",
   "metadata": {},
   "source": [
    "# Supplementary activities\n",
    "## Map creation\n",
    "\n",
    "Line charts aren't the only type of data python can plot. We can also create visualisations of maps with the help of another package called 'folium'. An example visualisation is below:\n",
    "\n",
    "<br>\n",
    "<center>\n",
    "\n",
    "<img src=\"https://github.com/ejjohnson93/outreach_jupyter/blob/main/images/open-street-map.png?raw=true\" alt=\"Alternative text\" width=\"500\"/>\n",
    "\n",
    "</center>\n",
    "<br>\n",
    "\n",
    "Let's create our own! By now we should hopefully be a little more familiar with the idea of loading packages to do tasks base python can't do. We'll first load folium:\n"
   ]
  },
  {
   "cell_type": "code",
   "execution_count": null,
   "metadata": {},
   "outputs": [],
   "source": [
    "# Code goes here"
   ]
  },
  {
   "attachments": {},
   "cell_type": "markdown",
   "metadata": {},
   "source": [
    "<br>\n",
    "\n",
    "We haven't renamed folium to anything else here because it's already quite a a short and punchy name but you could name it something else like 'fl' or 'fol' if you liked.\n",
    "\n",
    "One thing we need to pass to folium is the location we want to create a map of. Every location on Earth has a global address. The global address is given in the form of 'co-ordinates'. These are two numbers called 'latitude' and 'longitude'. On the map below we can see the horizontal lines across the globe are the latitude (telling us how far North or South we are) and the vertical lines are the longitude (telling us how far East or West we are).\n",
    "\n",
    "<br>\n",
    "<center>\n",
    "\n",
    "<img src=\"https://github.com/ejjohnson93/outreach_jupyter/blob/main/images/Lat_Long.gif?raw=true\" alt=\"Alternative text\" width=\"500\"/>\n",
    "\n",
    "</center>\n",
    "<br>\n",
    "\n",
    "There are multiple easy ways to get the latitude and longitude.\n",
    "\n",
    "If we find the location we want to use on GoogleMaps we can press 'right click' on our mouse. When we do the numbers will pop up.\n",
    "\n",
    "<br>\n",
    "<center>\n",
    "\n",
    "<img src=\"https://github.com/ejjohnson93/outreach_jupyter/blob/main/images/maps.png?raw=true\" alt=\"Alternative text\" width=\"500\"/>\n",
    "\n",
    "</center>\n",
    "<br>\n",
    "\n",
    "There are various tools like [LatLong](https://www.latlong.net/) that let us enter an address and get the numbers. The link to it is [here](https://www.latlong.net/). If we had a globe on hand we could use the co-ordinates on the globe to pick our values too.\n",
    "\n",
    "We will begin by creating a map of the city where I work: Liverpool. We use the folium command `map` to create a map object, using the co-ordinates for the city of Liverpool (latitude: 53.410782, longitude: -2.977840). The map object is then stored in a variable called 'map' using the equals sign."
   ]
  },
  {
   "cell_type": "code",
   "execution_count": null,
   "metadata": {},
   "outputs": [],
   "source": [
    "# Code goes here"
   ]
  },
  {
   "attachments": {},
   "cell_type": "markdown",
   "metadata": {},
   "source": [
    "If we then want to view our map we can type the name of the variable we stored it in:"
   ]
  },
  {
   "cell_type": "code",
   "execution_count": null,
   "metadata": {},
   "outputs": [],
   "source": [
    "# Code goes here"
   ]
  },
  {
   "attachments": {},
   "cell_type": "markdown",
   "metadata": {},
   "source": [
    "<br>\n",
    "\n",
    "I might want my map to be more zoomed in on a particular location, like the University of Liverpool. Like in the plotting acitvity, we do this by passing another argument to the `map` command called 'zoom_start'. The maximum number for 'zoom_start' is 18, and the minimum is 0."
   ]
  },
  {
   "cell_type": "code",
   "execution_count": null,
   "metadata": {},
   "outputs": [],
   "source": [
    "# Code goes here"
   ]
  },
  {
   "cell_type": "code",
   "execution_count": null,
   "metadata": {},
   "outputs": [],
   "source": [
    "# Code goes here"
   ]
  },
  {
   "attachments": {},
   "cell_type": "markdown",
   "metadata": {},
   "source": [
    "<br>\n",
    "\n",
    "Finally, we can change the appearance of our map to a number of different themes. Here we use one called 'stamen watercolor'. It doesn't contain a lot of information but it is quite pretty. You could use it to help generate a map for a fantasy story or game.\n",
    "\n",
    "The list of themes we could use: \"OpenStreetMap\" (the default), \"Stamen Watercolor\", \"Stamen Terrain\" or \"Stamen Toner\"."
   ]
  },
  {
   "cell_type": "code",
   "execution_count": null,
   "metadata": {},
   "outputs": [],
   "source": [
    "# Code goes here"
   ]
  },
  {
   "cell_type": "code",
   "execution_count": null,
   "metadata": {},
   "outputs": [],
   "source": [
    "# Code goes here"
   ]
  },
  {
   "attachments": {},
   "cell_type": "markdown",
   "metadata": {},
   "source": [
    "<br>\n",
    "\n",
    "<b> Challenge: can you create a map of your school's location? </b>\n",
    "\n",
    "-   Can you zoom in on it?\n",
    "\n",
    "-   Can you change the theme?"
   ]
  },
  {
   "cell_type": "code",
   "execution_count": null,
   "metadata": {},
   "outputs": [],
   "source": [
    "# CHALLENGE\n",
    "# Code goes here"
   ]
  },
  {
   "attachments": {},
   "cell_type": "markdown",
   "metadata": {},
   "source": [
    "<b> Challenge: pick another location, preferably somewhere outside the UK. Can you make a map for it? </b>\n",
    "\n",
    "-   If you wanted to you could also just pick random values for latitude and longitude and see what you find! Values for latitude (the horizontal lines) can be between -90 and 90. Values for longitude (the vertical lines) can be between -180 and 180. Be warned, you're most likely to just end up with open sea if you choose at random...\n",
    "\n",
    "<br>\n"
   ]
  },
  {
   "cell_type": "code",
   "execution_count": null,
   "metadata": {},
   "outputs": [],
   "source": [
    "# CHALLENGE\n",
    "# Code goes here"
   ]
  },
  {
   "attachments": {},
   "cell_type": "markdown",
   "metadata": {},
   "source": [
    "# Conclusions\n",
    "\n",
    "In these activities we have used Python to visualise data. In the first activity we created and customised a line chart (how do these compare to the ones you might have made in Microsoft Excel?). In the second we learned about maps and co-ordinates, and how we can use Python to create our own maps.\n",
    "\n",
    "Effectively communicating information via data visualisation is a hugely important skill in the 21st century in many fields. Health care professionals and scientists especially need to know how to communicate effectively with the public to convey their findings.\n",
    "\n",
    "Learning how to interpret charts and graphs is just as important. People can use graphics to accidentally or intentionally mislead people and make the data appear to say something different. For example, take a look at this graph produced by St. Louis Fed (USA) below:\n",
    "\n",
    "<br>\n",
    "\n",
    "<br>\n",
    "<center>\n",
    "\n",
    "<img src=\"https://github.com/ejjohnson93/outreach_jupyter/blob/main/images/FnGu4FXWIAIfeLq.png?raw=true\" alt=\"Alternative text\" width=\"500\"/>\n",
    "\n",
    "</center>\n",
    "<br>\n",
    "\n",
    "At a glance this graph would appear to suggest China has dramatically higher spending than all the other countries in 2020. But if we read the figure legend carefully we can see that there are two y-axes for the data. China, Russia, the UK, India and Saudi Arabia are all plotted on the left axis. The USA alone is plotted on the right axis. In reality the USA spent nearly $800 billion on its military, whereas China only spent ~$250 billion. Whilst the data plotted is technically correct the way it was visualised is very misleading. Take a look at this other visualisation that conveys nearly the same information:\n",
    "\n",
    "<br>\n",
    "<center>\n",
    "\n",
    "<img src=\"https://github.com/ejjohnson93/outreach_jupyter/blob/main/images/FnHdNsKXkAIORGP.png?raw=true\" alt=\"Alternative text\" width=\"500\"/>\n",
    "\n",
    "</center>\n",
    "<br>\n",
    "\n",
    "Here, the creators used a bar chart alongside a stacked bar chart to show the proportions of military spending. Though the time dimension was lost, this graphic is a lot more truthful and a lot more effective! St. Louis Fed (USA) later issued an apology and clarification for the misleading nature of their original graphic.\n",
    "\n",
    "Misleading data visualisation techniques were used frequently throughout the COVID-19 pandemic to spread misinformation. By creating our own data visualisations we can hopefully gain a greater understanding of how they are used and misused in media, and critically engage with the ones we see in the news.\n",
    "\n",
    "<br> <br>"
   ]
  }
 ],
 "metadata": {
  "kernelspec": {
   "display_name": "base",
   "language": "python",
   "name": "python3"
  },
  "language_info": {
   "codemirror_mode": {
    "name": "ipython",
    "version": 3
   },
   "file_extension": ".py",
   "mimetype": "text/x-python",
   "name": "python",
   "nbconvert_exporter": "python",
   "pygments_lexer": "ipython3",
   "version": "3.9.12 (main, Apr  5 2022, 06:56:58) \n[GCC 7.5.0]"
  },
  "orig_nbformat": 4,
  "vscode": {
   "interpreter": {
    "hash": "40a01ddbf75fe6519188ed3b7b447b02cedbf6edc2c26f6df0e3a655f802c487"
   }
  }
 },
 "nbformat": 4,
 "nbformat_minor": 2
}
